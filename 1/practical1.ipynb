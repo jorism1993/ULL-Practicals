{
 "cells": [
  {
   "cell_type": "markdown",
   "metadata": {},
   "source": [
    "## First pratical of the Unsupervised Language Learning course 2017-2018"
   ]
  },
  {
   "cell_type": "markdown",
   "metadata": {},
   "source": [
    "Joris Mollinga: 11871431 \n",
    "\n",
    "Aron:"
   ]
  },
  {
   "cell_type": "code",
   "execution_count": 26,
   "metadata": {
    "collapsed": true
   },
   "outputs": [],
   "source": [
    "import numpy as np\n",
    "import sklearn\n",
    "from sklearn.cluster import KMeans\n",
    "from sklearn.decomposition import PCA\n",
    "from collections import Counter, defaultdict\n",
    "import matplotlib.pyplot as plt"
   ]
  },
  {
   "cell_type": "code",
   "execution_count": 56,
   "metadata": {},
   "outputs": [],
   "source": [
    "def cosine_sim(a,b):\n",
    "    t = np.dot(a,b)\n",
    "    n = np.linalg.norm(a) * np.linalg.norm(b)\n",
    "    return t/n"
   ]
  },
  {
   "cell_type": "code",
   "execution_count": 20,
   "metadata": {
    "collapsed": true
   },
   "outputs": [],
   "source": [
    "# Read the word embeddings file\n",
    "def readWORDSfile(fileName):\n",
    "    word2vec = {}\n",
    "    \n",
    "    w2i = {}\n",
    "    i2w = {}\n",
    "\n",
    "    with open (fileName,'r',encoding=\"utf8\") as emb:\n",
    "        i = 0\n",
    "        for line in emb:\n",
    "            row = line.split()\n",
    "            word = row[0]\n",
    "            embedding = row[1:]\n",
    "\n",
    "            # Convert to floats and assign in dictionary\n",
    "            word2vec[word] = [float(i) for i in embedding] \n",
    "            \n",
    "            i2w[i] = word\n",
    "            w2i[word] = i\n",
    "            i += 1\n",
    "    return word2vec,i2w,w2i\n",
    "\n",
    "def read2000words(fileName):\n",
    "        \n",
    "    with open (fileName,'r') as nouns:\n",
    "        words = nouns.readlines()\n",
    "        \n",
    "    words = [i.split()[0] for i in words]\n",
    "            \n",
    "    return words"
   ]
  },
  {
   "cell_type": "code",
   "execution_count": 21,
   "metadata": {
    "collapsed": true
   },
   "outputs": [],
   "source": [
    "word2vec, W2V_i2w, W2V_w2i = readWORDSfile('deps.WORDS')"
   ]
  },
  {
   "cell_type": "code",
   "execution_count": 23,
   "metadata": {
    "collapsed": true
   },
   "outputs": [],
   "source": [
    "bow2, bow2_i2w, bow2_w2i = readWORDSfile('bow2.WORDS')"
   ]
  },
  {
   "cell_type": "code",
   "execution_count": 40,
   "metadata": {
    "collapsed": true
   },
   "outputs": [],
   "source": [
    "bow5, bow5_i2w, bow5_w2i = readWORDSfile('bow5.WORDS')"
   ]
  },
  {
   "cell_type": "markdown",
   "metadata": {},
   "source": [
    "## Clustering word vectors"
   ]
  },
  {
   "cell_type": "code",
   "execution_count": 48,
   "metadata": {},
   "outputs": [],
   "source": [
    "pca = PCA(n_components=2)\n",
    "Xw2v = pca.fit_transform(list(word2vec.values()))\n"
   ]
  },
  {
   "cell_type": "code",
   "execution_count": 128,
   "metadata": {},
   "outputs": [],
   "source": [
    "words = read2000words('2000_nouns_sorted.txt')\n",
    "w2v_nouns = []\n",
    "bow2_nouns = []\n",
    "bow5_nouns = []\n",
    "removeList = []\n",
    "\n",
    "for word in words:\n",
    "    try:\n",
    "        w2v_nouns.append(word2vec[word])\n",
    "        bow2_nouns.append(bow2[word])\n",
    "        bow5_nouns.append(bow5[word])\n",
    "    except:\n",
    "        removeList.append(word)\n",
    "\n",
    "for word in removeList:\n",
    "    words.remove(word)"
   ]
  },
  {
   "cell_type": "code",
   "execution_count": 129,
   "metadata": {},
   "outputs": [],
   "source": [
    "def find_closest_word(a,p,i2w,n=1):\n",
    "    if n == 1:\n",
    "        sim = [cosine_sim(p[i],a) for i in range(0,len(p))]\n",
    "        idx = sim.index(max(sim))\n",
    "        return i2w[idx]\n",
    "    else:\n",
    "        sim = [cosine_sim(p[i],a) for i in range(0,len(p))]\n",
    "        idx = sorted(range(len(sim)), key=lambda i: sim[i])[-n:]\n",
    "        return list(reversed([i2w[i] for i in idx]))"
   ]
  },
  {
   "cell_type": "code",
   "execution_count": null,
   "metadata": {
    "scrolled": true
   },
   "outputs": [],
   "source": [
    "num_clusters = 15\n",
    "kmeans_w2v = KMeans(n_clusters = num_clusters,random_state = 0).fit(Xw2v)\n",
    "predict_w2v = kmeans_w2v.predict(Xw2v)\n",
    "centers_w2v = kmeans_w2v.cluster_centers_\n",
    "\n",
    "plt.scatter(Xw2v[:,0],Xw2v[:,1], c=predict_w2v,cmap= 'jet')\n",
    "plt.scatter(centers_w2v[:,0],centers_w2v[:,1],c='b')\n",
    "plt.show()\n"
   ]
  },
  {
   "cell_type": "code",
   "execution_count": 133,
   "metadata": {
    "scrolled": true
   },
   "outputs": [
    {
     "name": "stdout",
     "output_type": "stream",
     "text": [
      "['ideology', 'philosophy', 'culture']\n",
      "['comment', 'quote', 'statement']\n",
      "['purchaser', 'creditor', 'buyer']\n",
      "['evaluation', 'analysis', 'assessment']\n",
      "['cupboard', 'sofa', 'shaft']\n",
      "['susan', 'laura', 'sarah']\n",
      "['picture', 'photograph', 'story']\n",
      "['organiser', 'solicitor', 'adviser']\n",
      "['italy', 'russia', 'britain']\n",
      "['increase', 'change', 'shift']\n",
      "['mist', 'rain', 'smoke']\n",
      "['bread', 'coffee', 'milk']\n",
      "['dividend', 'subsidy', 'revenue']\n",
      "['emotion', 'warmth', 'excitement']\n",
      "['thigh', 'forehead', 'wrist']\n",
      "['rejection', 'adoption', 'acceptance']\n",
      "['smith', 'corbett', 'miller']\n",
      "['unemployment', 'poverty', 'inflation']\n",
      "['towel', 'shoe', 'sofa']\n",
      "['organisation', 'organization', 'agency']\n",
      "['relationship', 'interaction', 'co-operation']\n",
      "['brow', 'terrace', 'pond']\n",
      "['youngster', 'woman', 'policeman']\n",
      "['afternoon', 'weekend', 'week']\n",
      "['verdict', 'injunction', 'conviction']\n",
      "['facility', 'hotel', 'cottage']\n",
      "['thinking', 'finding', 'writing']\n",
      "['obligation', 'privilege', 'provision']\n",
      "['molecule', 'component', 'organism']\n",
      "['raid', 'attack', 'assault']\n",
      "['intensity', 'efficiency', 'sensitivity']\n",
      "['handful', 'proportion', 'quantity']\n",
      "['notion', 'implication', 'idea']\n",
      "['module', 'device', 'package']\n",
      "['slide', 'drop', 'punch']\n"
     ]
    }
   ],
   "source": [
    "kmeans_w2v_nouns = KMeans(n_clusters = 35,random_state = 0).fit(w2v_nouns)\n",
    "centers_w2v_nouns = kmeans_w2v_nouns.cluster_centers_\n",
    "\n",
    "for center in centers_w2v_nouns:\n",
    "    print (find_closest_word(center, w2v_nouns, words , n = 3))"
   ]
  },
  {
   "cell_type": "code",
   "execution_count": 135,
   "metadata": {},
   "outputs": [
    {
     "name": "stdout",
     "output_type": "stream",
     "text": [
      "['journalist', 'lawyer', 'researcher', 'historian', 'photographer', 'writer', 'scientist', 'accountant', 'magistrate', 'reporter']\n",
      "['creation', 'completion', 'adoption', 'introduction', 'establishment', 'closure', 'arrival', 'acquisition', 'departure', 'conversion']\n",
      "['requirement', 'provision', 'necessity', 'limitation', 'restriction', 'obligation', 'minimum', 'regulation', 'calculation', 'validity']\n",
      "['chapel', 'hotel', 'building', 'palace', 'village', 'town', 'terrace', 'station', 'facility', 'hospital']\n",
      "['sleep', 'smile', 'happiness', 'laughter', 'vision', 'gaze', 'love', 'kiss', 'touch', 'dream']\n",
      "['debt', 'subsidy', 'mortgage', 'investment', 'expenditure', 'dividend', 'savings', 'cheque', 'income', 'payment']\n",
      "['constraint', 'method', 'parameter', 'calculation', 'mechanism', 'component', 'element', 'technique', 'measurement', 'symptom']\n",
      "['mist', 'darkness', 'flesh', 'heaven', 'dust', 'smoke', 'corpse', 'flame', 'scent', 'sweat']\n",
      "['corridor', 'ridge', 'east', 'river', 'road', 'slope', 'terrace', 'west', 'north', 'valley']\n",
      "['year', 'season', 'june', 'march', 'month', 'february', 'autumn', 'summer', 'april', 'week']\n",
      "['frustration', 'excitement', 'anxiety', 'embarrassment', 'emotion', 'anger', 'weakness', 'confusion', 'hostility', 'fear']\n",
      "['john', 'richard', 'william', 'robert', 'james', 'edward', 'stephen', 'henry', 'peter', 'charles']\n",
      "['notion', 'implication', 'idea', 'premise', 'argument', 'possibility', 'allegation', 'objection', 'expectation', 'suggestion']\n",
      "['evaluation', 'effectiveness', 'integration', 'stability', 'analysis', 'efficiency', 'assessment', 'implementation', 'preparation', 'measurement']\n",
      "['bread', 'milk', 'coffee', 'cake', 'juice', 'potato', 'meat', 'cream', 'drink', 'fruit']\n",
      "['thigh', 'spine', 'wrist', 'forehead', 'shoulder', 'neck', 'chest', 'throat', 'cheek', 'elbow']\n",
      "['specification', 'implementation', 'application', 'interface', 'framework', 'definition', 'design', 'curriculum', 'description', 'standard']\n",
      "['smith', 'clarke', 'taylor', 'walker', 'miller', 'wilson', 'baker', 'johnson', 'williams', 'wright']\n",
      "['king', 'prince', 'emperor', 'chancellor', 'ambassador', 'princess', 'queen', 'duke', 'athelstan', 'bishop']\n",
      "['complaint', 'recommendation', 'verdict', 'comment', 'statement', 'reply', 'request', 'allegation', 'decision', 'appeal']\n",
      "['kitchen', 'bathroom', 'cupboard', 'room', 'bedroom', 'downstairs', 'apartment', 'restaurant', 'tent', 'garage']\n",
      "['vehicle', 'helicopter', 'lorry', 'passenger', 'train', 'aircraft', 'boat', 'truck', 'ship', 'carriage']\n",
      "['wages', 'earnings', 'income', 'salary', 'dividend', 'pension', 'subsidy', 'payment', 'compensation', 'unemployment']\n",
      "['customer', 'employee', 'participant', 'applicant', 'patient', 'employer', 'student', 'viewer', 'purchaser', 'buyer']\n",
      "['afternoon', 'evening', 'morning', 'night', 'weekend', 'week', 'hour', 'breakfast', 'month', 'occasion']\n",
      "['conflict', 'conversation', 'relationship', 'dispute', 'contradiction', 'discussion', 'negotiation', 'debate', 'connection', 'consultation']\n",
      "['organisation', 'organization', 'ideology', 'movement', 'initiative', 'coalition', 'ministry', 'institution', 'unity', 'alliance']\n",
      "['drop', 'move', 'break', 'switch', 'blow', 'turn', 'hold', 'draw', 'return', 'handle']\n",
      "['device', 'package', 'module', 'disk', 'tray', 'component', 'processor', 'interface', 'disc', 'file']\n",
      "['jurisdiction', 'privilege', 'ownership', 'responsibility', 'authority', 'possession', 'discretion', 'monopoly', 'property', 'territory']\n",
      "['constitution', 'council', 'parliament', 'referendum', 'committee', 'delegation', 'legislation', 'statute', 'tribunal', 'congress']\n",
      "['subsidiary', 'company', 'corporation', 'corp', 'firm', 'venture', 'label', 'manufacturer', 'supplier', 'headquarters']\n",
      "['britain', 'france', 'italy', 'europe', 'spain', 'england', 'russia', 'germany', 'ireland', 'japan']\n",
      "['proportion', 'amount', 'quantity', 'fraction', 'mixture', 'combination', 'percentage', 'result', 'consequence', 'extent']\n",
      "['destruction', 'attack', 'assault', 'explosion', 'collapse', 'murder', 'incident', 'accident', 'raid', 'invasion']\n",
      "['woman', 'lover', 'teenager', 'person', 'victim', 'husband', 'father', 'mother', 'landlord', 'defendant']\n",
      "['pound', 'pound', 'tonne', 'million', 'dollar', 'dollar', 'thousand', 'mile', 'hundred', 'inch']\n",
      "['intensity', 'temperature', 'sensitivity', 'frequency', 'height', 'output', 'depth', 'speed', 'pulse', 'weight']\n",
      "['tournament', 'championship', 'competition', 'event', 'contest', 'challenge', 'winner', 'match', 'trophy', 'team']\n",
      "['chairman', 'secretary', 'deputy', 'director', 'leader', 'president', 'trustee', 'councillor', 'spokesman', 'minister']\n",
      "['food', 'fuel', 'electricity', 'supplies', 'grain', 'waste', 'water', 'supply', 'alcohol', 'consumption']\n",
      "['enthusiasm', 'commitment', 'sympathy', 'ambition', 'confidence', 'knowledge', 'expertise', 'respect', 'courage', 'acceptance']\n",
      "['towel', 'glove', 'shoe', 'skirt', 'cloth', 'bottle', 'jacket', 'tray', 'candle', 'needle']\n",
      "['emily', 'laura', 'helen', 'susan', 'jane', 'sarah', 'maggie', 'lucy', 'rachel', 'mary']\n",
      "['essay', 'poem', 'photograph', 'text', 'book', 'quote', 'verse', 'image', 'picture', 'story']\n",
      "['music', 'film', 'movie', 'video', 'album', 'recording', 'song', 'tune', 'dance', 'concert']\n",
      "['organism', 'bacterium', 'insect', 'molecule', 'tissue', 'creature', 'specimen', 'cell', 'animal', 'species']\n",
      "['rabbit', 'sheep', 'bird', 'lamb', 'horse', 'fish', 'mouse', 'cattle', 'grin', 'black']\n",
      "['supplier', 'purchaser', 'buyer', 'manufacturer', 'vendor', 'export', 'investor', 'seller', 'customer', 'developer']\n",
      "['roof', 'ceiling', 'stair', 'shaft', 'doorway', 'tray', 'cupboard', 'door', 'rope', 'curtain']\n"
     ]
    }
   ],
   "source": [
    "kmeans_bow2_nouns = KMeans(n_clusters = 50,random_state = 0).fit(bow2_nouns)\n",
    "centers_bow2_nouns = kmeans_bow2_nouns.cluster_centers_\n",
    "\n",
    "for center in centers_bow2_nouns:\n",
    "    print (find_closest_word(center, bow2_nouns, words , n = 10))"
   ]
  },
  {
   "cell_type": "code",
   "execution_count": 105,
   "metadata": {},
   "outputs": [
    {
     "name": "stdout",
     "output_type": "stream",
     "text": [
      "['traveller', 'bottle', 'north', 'tournament', 'root', 'ford', 'knee', 'chest', 'shot', 'need']\n",
      "['senses', 'means', 'measure', 'quality', 'calculation', 'component', 'fuel', 'intelligence', 'recovery', 'complexity']\n",
      "['emotion', 'handle', 'desire', 'enthusiasm', 'fruit', 'feeling', 'excitement', 'fear', 'ambition', 'anger']\n",
      "['height', 'jackson', 'jesus', 'survival', 'road', 'thinking', 'emily', 'loyalty', 'james', 'sand']\n",
      "['concert', 'delegation', 'protein', 'medium', 'public', 'campaign', 'name', 'yard', 'victim', 'exhibition']\n",
      "['laura', 'journal', 'soldier', 'colleague', 'accountant', 'taylor', 'wrist', 'adviser', 'police', 'research']\n",
      "['term', 'river', 'paris', 'pollution', 'tower', 'hostility', 'hierarchy', 'castle', 'corridor', 'cottage']\n",
      "['pavement', 'purchase', 'subsidiary', 'investigation', 'morning', 'creditor', 'dividend', 'debt', 'earnings', 'buyer']\n",
      "['state', 'sugar', 'argument', 'object', 'remains', 'explanation', 'implementation', 'queen', 'comment', 'complaint']\n",
      "['impact', 'evaluation', 'development', 'insurance', 'application', 'male', 'assessment', 'province', 'mail', 'resolution']\n"
     ]
    }
   ],
   "source": [
    "kmeans_bow5_nouns = KMeans(n_clusters = 10,random_state = 0).fit(bow5_nouns)\n",
    "centers_bow5_nouns = kmeans_bow5_nouns.cluster_centers_\n",
    "\n",
    "for center in centers_bow5_nouns:\n",
    "    print (find_closest_word(center, bow5_nouns, words , n = 10))"
   ]
  }
 ],
 "metadata": {
  "kernelspec": {
   "display_name": "Python 3",
   "language": "python",
   "name": "python3"
  },
  "language_info": {
   "codemirror_mode": {
    "name": "ipython",
    "version": 3
   },
   "file_extension": ".py",
   "mimetype": "text/x-python",
   "name": "python",
   "nbconvert_exporter": "python",
   "pygments_lexer": "ipython3",
   "version": "3.5.4"
  }
 },
 "nbformat": 4,
 "nbformat_minor": 2
}
