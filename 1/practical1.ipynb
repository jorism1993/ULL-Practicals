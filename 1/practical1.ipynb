{
 "cells": [
  {
   "cell_type": "markdown",
   "metadata": {},
   "source": [
    "## First pratical of the Unsupervised Language Learning course 2017-2018"
   ]
  },
  {
   "cell_type": "markdown",
   "metadata": {},
   "source": [
    "Joris Mollinga: 11871431 \n",
    "\n",
    "Aron:"
   ]
  },
  {
   "cell_type": "code",
   "execution_count": 1,
   "metadata": {
    "collapsed": true
   },
   "outputs": [],
   "source": [
    "import numpy as np"
   ]
  },
  {
   "cell_type": "code",
   "execution_count": null,
   "metadata": {},
   "outputs": [],
   "source": [
    "# Read the word embeddings file\n",
    "fileName = 'deps.WORDS'\n",
    "\n",
    "word2vec = {}\n",
    "\n",
    "with open (fileName,'r',encoding=\"utf8\") as emb:\n",
    "    for line in emb:\n",
    "        row = line.split()\n",
    "        word = row[0]\n",
    "        embedding = row[1:]\n",
    "        \n",
    "        # Convert to floats\n",
    "        [float(i) for i in embedding]\n",
    "        \n",
    "        word2vec[word] = embedding       "
   ]
  },
  {
   "cell_type": "code",
   "execution_count": null,
   "metadata": {
    "collapsed": true
   },
   "outputs": [],
   "source": []
  }
 ],
 "metadata": {
  "kernelspec": {
   "display_name": "Python 3",
   "language": "python",
   "name": "python3"
  },
  "language_info": {
   "codemirror_mode": {
    "name": "ipython",
    "version": 3
   },
   "file_extension": ".py",
   "mimetype": "text/x-python",
   "name": "python",
   "nbconvert_exporter": "python",
   "pygments_lexer": "ipython3",
   "version": "3.5.4"
  }
 },
 "nbformat": 4,
 "nbformat_minor": 2
}
